{
 "cells": [
  {
   "cell_type": "code",
   "execution_count": 1,
   "id": "bb3ede5d-0415-4279-85c8-c724ed7989e5",
   "metadata": {},
   "outputs": [],
   "source": [
    "import chromadb\n",
    "from knowledge_base import Knowledge_Base"
   ]
  },
  {
   "cell_type": "code",
   "execution_count": 2,
   "id": "da9a70f5-9c29-48a3-b351-259c4398a2ea",
   "metadata": {},
   "outputs": [],
   "source": [
    "# create knowledge base\n",
    "knowledge_base = Knowledge_Base(\"vector_db/\")"
   ]
  },
  {
   "cell_type": "code",
   "execution_count": 3,
   "id": "8b24f930-8346-4a52-86b8-c3cd7995c20e",
   "metadata": {},
   "outputs": [],
   "source": [
    "# create collection\n",
    "collection = knowledge_base.create_collection()"
   ]
  },
  {
   "cell_type": "code",
   "execution_count": 4,
   "id": "32fcf0a6-3134-4569-99a5-95a50bb4299c",
   "metadata": {},
   "outputs": [
    {
     "data": {
      "text/plain": [
       "Collection(name=company_knowledge_base)"
      ]
     },
     "execution_count": 4,
     "metadata": {},
     "output_type": "execute_result"
    }
   ],
   "source": [
    "collection"
   ]
  },
  {
   "cell_type": "code",
   "execution_count": 1,
   "id": "9e544158-f796-4b1f-9eb2-94de3108199c",
   "metadata": {},
   "outputs": [],
   "source": [
    "# get and parse knowledge from documents\n",
    "import os\n",
    "\n",
    "documents_name_list = os.listdir(\"documents/\")\n",
    "documents_dict = {}\n",
    "\n",
    "for document_name in documents_name_list:\n",
    "    doc_path = \"documents/\"+document_name\n",
    "    with open(doc_path, 'r', encoding='utf-8') as file:\n",
    "        content = file.read()\n",
    "        documents_dict[document_name.split(\".\")[0]]=content\n",
    "    \n"
   ]
  },
  {
   "cell_type": "code",
   "execution_count": 2,
   "id": "543e5e9e-7b53-419f-a185-bf28060cf59b",
   "metadata": {},
   "outputs": [
    {
     "data": {
      "text/plain": [
       "dict_keys(['complaints', 'contact_info', 'product_catalogue', 'return_and_exchange_policy', 'warranty_and_repair_services'])"
      ]
     },
     "execution_count": 2,
     "metadata": {},
     "output_type": "execute_result"
    }
   ],
   "source": [
    "documents_dict.keys()"
   ]
  },
  {
   "cell_type": "code",
   "execution_count": 3,
   "id": "c9922726-2946-426e-a9b7-e57cc8f7871a",
   "metadata": {},
   "outputs": [
    {
     "data": {
      "text/plain": [
       "'sales and orders replated: sales_and_order@gmail.com\\nwarranty, services and repairs: service@gmail.com\\nrefunds and billing: finance@gmail.com\\nproduct information related: product_info@gmail.com\\ncomplaints and feedback reporting: feddback@gmail.com'"
      ]
     },
     "execution_count": 3,
     "metadata": {},
     "output_type": "execute_result"
    }
   ],
   "source": [
    "documents_dict['contact_info']"
   ]
  },
  {
   "cell_type": "code",
   "execution_count": 9,
   "id": "4ce6a21f-5bd0-4a7e-a865-0a6be3ee995a",
   "metadata": {},
   "outputs": [
    {
     "name": "stderr",
     "output_type": "stream",
     "text": [
      "/home/ddesilva/.cache/chroma/onnx_models/all-MiniLM-L6-v2/onnx.tar.gz: 100%|█████████████| 79.3M/79.3M [00:05<00:00, 14.4MiB/s]\n"
     ]
    }
   ],
   "source": [
    "## Add documents to the collection\n",
    "\n",
    "knowledge_base.add_to_collection(collection=collection, documents=documents_dict)"
   ]
  },
  {
   "cell_type": "code",
   "execution_count": null,
   "id": "3bd6d0e0-92b1-4077-a691-beda09e8ce81",
   "metadata": {},
   "outputs": [],
   "source": [
    "query = \"I bought a TV last week and now it is not working. Since it is in warranty period, I would like to get it repaired or replace for a new one.\"\n",
    "\n",
    "context = knowledge_base.query(collection=collection, query=query)"
   ]
  },
  {
   "cell_type": "code",
   "execution_count": null,
   "id": "baaa0125-17b9-464d-a6a7-2cc7369e5ffa",
   "metadata": {},
   "outputs": [],
   "source": []
  }
 ],
 "metadata": {
  "kernelspec": {
   "display_name": "Python 3 (ipykernel)",
   "language": "python",
   "name": "python3"
  },
  "language_info": {
   "codemirror_mode": {
    "name": "ipython",
    "version": 3
   },
   "file_extension": ".py",
   "mimetype": "text/x-python",
   "name": "python",
   "nbconvert_exporter": "python",
   "pygments_lexer": "ipython3",
   "version": "3.10.16"
  }
 },
 "nbformat": 4,
 "nbformat_minor": 5
}
