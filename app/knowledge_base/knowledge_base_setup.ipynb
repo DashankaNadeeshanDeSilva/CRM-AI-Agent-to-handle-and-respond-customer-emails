{
 "cells": [
  {
   "cell_type": "code",
   "execution_count": 1,
   "id": "bb3ede5d-0415-4279-85c8-c724ed7989e5",
   "metadata": {},
   "outputs": [],
   "source": [
    "import chromadb\n",
    "from knowledge_base import Knowledge_Base"
   ]
  },
  {
   "cell_type": "code",
   "execution_count": 2,
   "id": "da9a70f5-9c29-48a3-b351-259c4398a2ea",
   "metadata": {},
   "outputs": [],
   "source": [
    "# create knowledge base\n",
    "knowledge_base = Knowledge_Base(\"vector_db/\")"
   ]
  },
  {
   "cell_type": "code",
   "execution_count": 3,
   "id": "8b24f930-8346-4a52-86b8-c3cd7995c20e",
   "metadata": {},
   "outputs": [],
   "source": [
    "# create collection\n",
    "collection = knowledge_base.create_collection()"
   ]
  },
  {
   "cell_type": "code",
   "execution_count": 4,
   "id": "32fcf0a6-3134-4569-99a5-95a50bb4299c",
   "metadata": {},
   "outputs": [
    {
     "data": {
      "text/plain": [
       "Collection(name=company_knowledge_base)"
      ]
     },
     "execution_count": 4,
     "metadata": {},
     "output_type": "execute_result"
    }
   ],
   "source": [
    "collection"
   ]
  },
  {
   "cell_type": "code",
   "execution_count": 1,
   "id": "9e544158-f796-4b1f-9eb2-94de3108199c",
   "metadata": {},
   "outputs": [],
   "source": [
    "# get and parse knowledge from documents\n",
    "import os\n",
    "\n",
    "documents_name_list = os.listdir(\"documents/\")\n",
    "documents_dict = {}\n",
    "\n",
    "for document_name in documents_name_list:\n",
    "    doc_path = \"documents/\"+document_name\n",
    "    with open(doc_path, 'r', encoding='utf-8') as file:\n",
    "        content = file.read()\n",
    "        documents_dict[document_name.split(\".\")[0]]=content\n",
    "    \n"
   ]
  },
  {
   "cell_type": "code",
   "execution_count": 2,
   "id": "543e5e9e-7b53-419f-a185-bf28060cf59b",
   "metadata": {},
   "outputs": [
    {
     "data": {
      "text/plain": [
       "dict_keys(['complaints', 'contact_info', 'product_catalogue', 'return_and_exchange_policy', 'warranty_and_repair_services'])"
      ]
     },
     "execution_count": 2,
     "metadata": {},
     "output_type": "execute_result"
    }
   ],
   "source": [
    "documents_dict.keys()"
   ]
  },
  {
   "cell_type": "code",
   "execution_count": 3,
   "id": "c9922726-2946-426e-a9b7-e57cc8f7871a",
   "metadata": {},
   "outputs": [
    {
     "data": {
      "text/plain": [
       "'sales and orders replated: sales_and_order@gmail.com\\nwarranty, services and repairs: service@gmail.com\\nrefunds and billing: finance@gmail.com\\nproduct information related: product_info@gmail.com\\ncomplaints and feedback reporting: feddback@gmail.com'"
      ]
     },
     "execution_count": 3,
     "metadata": {},
     "output_type": "execute_result"
    }
   ],
   "source": [
    "documents_dict['contact_info']"
   ]
  },
  {
   "cell_type": "code",
   "execution_count": 9,
   "id": "4ce6a21f-5bd0-4a7e-a865-0a6be3ee995a",
   "metadata": {},
   "outputs": [
    {
     "name": "stderr",
     "output_type": "stream",
     "text": [
      "/home/ddesilva/.cache/chroma/onnx_models/all-MiniLM-L6-v2/onnx.tar.gz: 100%|█████████████| 79.3M/79.3M [00:05<00:00, 14.4MiB/s]\n"
     ]
    }
   ],
   "source": [
    "## Add documents to the collection\n",
    "\n",
    "knowledge_base.add_to_collection(collection=collection, documents=documents_dict)"
   ]
  },
  {
   "cell_type": "code",
   "execution_count": 5,
   "id": "3bd6d0e0-92b1-4077-a691-beda09e8ce81",
   "metadata": {},
   "outputs": [
    {
     "ename": "TypeError",
     "evalue": "sequence item 0: expected str instance, list found",
     "output_type": "error",
     "traceback": [
      "\u001b[0;31m---------------------------------------------------------------------------\u001b[0m",
      "\u001b[0;31mTypeError\u001b[0m                                 Traceback (most recent call last)",
      "Cell \u001b[0;32mIn[5], line 3\u001b[0m\n\u001b[1;32m      1\u001b[0m query \u001b[38;5;241m=\u001b[39m \u001b[38;5;124m\"\u001b[39m\u001b[38;5;124mI bought a TV last week and now it is not working. Since it is in warranty period, I would like to get it repaired or replace for a new one.\u001b[39m\u001b[38;5;124m\"\u001b[39m\n\u001b[0;32m----> 3\u001b[0m context \u001b[38;5;241m=\u001b[39m \u001b[43mknowledge_base\u001b[49m\u001b[38;5;241;43m.\u001b[39;49m\u001b[43mquery\u001b[49m\u001b[43m(\u001b[49m\u001b[43mcollection\u001b[49m\u001b[38;5;241;43m=\u001b[39;49m\u001b[43mcollection\u001b[49m\u001b[43m,\u001b[49m\u001b[43m \u001b[49m\u001b[43mquery\u001b[49m\u001b[38;5;241;43m=\u001b[39;49m\u001b[43mquery\u001b[49m\u001b[43m)\u001b[49m\n",
      "File \u001b[0;32m/mnt/c/MLOps Projects/AI Agents projects/CRM-AI-Agent-to-handle-and-respond-customer-emails - V2/app/knowledge_base/knowledge_base.py:29\u001b[0m, in \u001b[0;36mKnowledge_Base.query\u001b[0;34m(self, collection, query, n_results)\u001b[0m\n\u001b[1;32m     27\u001b[0m \u001b[38;5;28;01mdef\u001b[39;00m \u001b[38;5;21mquery\u001b[39m(\u001b[38;5;28mself\u001b[39m, collection, query, n_results\u001b[38;5;241m=\u001b[39m\u001b[38;5;241m2\u001b[39m):\n\u001b[1;32m     28\u001b[0m     results \u001b[38;5;241m=\u001b[39m collection\u001b[38;5;241m.\u001b[39mquery(query_texts\u001b[38;5;241m=\u001b[39m[query], n_results\u001b[38;5;241m=\u001b[39mn_results)\n\u001b[0;32m---> 29\u001b[0m     retrieved_context \u001b[38;5;241m=\u001b[39m \u001b[38;5;124;43m\"\u001b[39;49m\u001b[38;5;124;43m \u001b[39;49m\u001b[38;5;124;43m\"\u001b[39;49m\u001b[38;5;241;43m.\u001b[39;49m\u001b[43mjoin\u001b[49m\u001b[43m(\u001b[49m\u001b[43m[\u001b[49m\u001b[43mdoc\u001b[49m\u001b[43m \u001b[49m\u001b[38;5;28;43;01mfor\u001b[39;49;00m\u001b[43m \u001b[49m\u001b[43mdoc\u001b[49m\u001b[43m \u001b[49m\u001b[38;5;129;43;01min\u001b[39;49;00m\u001b[43m \u001b[49m\u001b[43mresults\u001b[49m\u001b[43m[\u001b[49m\u001b[38;5;124;43m\"\u001b[39;49m\u001b[38;5;124;43mdocuments\u001b[39;49m\u001b[38;5;124;43m\"\u001b[39;49m\u001b[43m]\u001b[49m\u001b[43m]\u001b[49m\u001b[43m)\u001b[49m\n\u001b[1;32m     30\u001b[0m     \u001b[38;5;28;01mreturn\u001b[39;00m retrieved_context\n",
      "\u001b[0;31mTypeError\u001b[0m: sequence item 0: expected str instance, list found"
     ]
    }
   ],
   "source": [
    "query = \"I bought a TV last week and now it is not working. Since it is in warranty period, I would like to get it repaired or replace for a new one.\"\n",
    "\n",
    "context = knowledge_base.query(collection=collection, query=query)"
   ]
  },
  {
   "cell_type": "code",
   "execution_count": null,
   "id": "baaa0125-17b9-464d-a6a7-2cc7369e5ffa",
   "metadata": {},
   "outputs": [],
   "source": []
  }
 ],
 "metadata": {
  "kernelspec": {
   "display_name": "Python 3 (ipykernel)",
   "language": "python",
   "name": "python3"
  },
  "language_info": {
   "codemirror_mode": {
    "name": "ipython",
    "version": 3
   },
   "file_extension": ".py",
   "mimetype": "text/x-python",
   "name": "python",
   "nbconvert_exporter": "python",
   "pygments_lexer": "ipython3",
   "version": "3.10.16"
  }
 },
 "nbformat": 4,
 "nbformat_minor": 5
}
